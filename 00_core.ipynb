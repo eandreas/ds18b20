{
 "cells": [
  {
   "cell_type": "code",
   "execution_count": null,
   "metadata": {},
   "outputs": [],
   "source": [
    "# default_exp core"
   ]
  },
  {
   "cell_type": "markdown",
   "metadata": {},
   "source": [
    "# ds18b20\n",
    "\n",
    "> A module to handle DS18B20 temperature sensors"
   ]
  },
  {
   "cell_type": "code",
   "execution_count": null,
   "metadata": {},
   "outputs": [],
   "source": [
    "#hide\n",
    "from nbdev.showdoc import *\n",
    "\n",
    "import os\n",
    "import glob\n",
    "import re\n",
    "import datetime as dt\n",
    "from pathlib2 import Path"
   ]
  },
  {
   "cell_type": "code",
   "execution_count": null,
   "metadata": {},
   "outputs": [],
   "source": [
    "#export\n",
    "def add_one_wire_modules():\n",
    "    \"Add one wire communication device kernel modules to the linux kernel\"\n",
    "    os.system('/usr/sbin/modprobe w1-gpio')\n",
    "    os.system('/usr/sbin/modprobe w1-therm')"
   ]
  },
  {
   "cell_type": "code",
   "execution_count": null,
   "metadata": {},
   "outputs": [],
   "source": [
    "#export\n",
    "class DataPoint:\n",
    "    \"TODO\"\n",
    "    def __init__(self, device_sn, date_time, temp_raw):\n",
    "        self.device_sn = device_sn\n",
    "        self.date_time = date_time\n",
    "        self.temp_raw = temp_raw\n",
    "        \n",
    "    def get_device_sn(self):\n",
    "        return self.device_sn\n",
    "    \n",
    "    def get_date_time(self):\n",
    "        return self.date_time\n",
    "    \n",
    "    def get_date(self):\n",
    "        return self.date_time.date()\n",
    "    \n",
    "    def get_time(self):\n",
    "        return self.date_time.time()\n",
    "    \n",
    "    def print_date_time(self):\n",
    "        print(self.date_time.strftime('%Y-%m-%d %H:%M:%S'))\n",
    "        \n",
    "    def print_date(self):\n",
    "        print(self.date_time.strftime('%Y-%m-%d'))\n",
    "        \n",
    "    def print_time(self):\n",
    "        print(self.date_time.strftime('%H:%M:%S'))\n",
    "        \n",
    "    def get_temp_C(self):\n",
    "        return self.temp_raw / 1000.0\n",
    "    \n",
    "    def get_temp_F(self):\n",
    "        return self.get_temp_C() * 9.0 / 5.0 + 32.0\n",
    "    \n",
    "    def get_temp_K(self):\n",
    "        return self.get_temp_C() + 273.15"
   ]
  },
  {
   "cell_type": "code",
   "execution_count": null,
   "metadata": {},
   "outputs": [],
   "source": [
    "#export\n",
    "class Device:\n",
    "    \"TODO\"\n",
    "    def __init__(self, base_dir = '/sys/bus/w1/devices/', device_sn = '28*'):\n",
    "        self.base_dir = base_dir\n",
    "        path = Path(base_dir).glob(device_sn + '/w1_slave')\n",
    "        self.device_files = [x for x in path if x.is_file()]\n",
    "\n",
    "    def __read_raw(self, device_file):\n",
    "        with open(device_file, 'r') as f: \n",
    "            rows = f.readlines()\n",
    "            return rows\n",
    "        \n",
    "    def __device_sn(self, device_file):\n",
    "        return re.findall(r'.*?/(.*?)/w1_slave', str(device_file))[0]\n",
    "    \n",
    "    def get_temps(self):\n",
    "        temps = list()\n",
    "        for df in self.device_files:\n",
    "            rows = self.__read_raw(df)\n",
    "            while rows[0].strip()[-3:] != 'YES':\n",
    "                time.sleep(0.2)\n",
    "                rows = read_temp_raw()\n",
    "            pos = rows[1].find('t=')\n",
    "            if pos != -1:\n",
    "                device_sn = self.__device_sn(df)\n",
    "                date_time = dt.datetime.now()\n",
    "                temperature = float(rows[1][pos + 2:])\n",
    "                data_point = DataPoint(device_sn, date_time, temperature)\n",
    "                temps.append(data_point)\n",
    "        return temps"
   ]
  },
  {
   "cell_type": "code",
   "execution_count": null,
   "metadata": {},
   "outputs": [
    {
     "data": {
      "text/plain": [
       "'28-03219779d339'"
      ]
     },
     "execution_count": null,
     "metadata": {},
     "output_type": "execute_result"
    }
   ],
   "source": [
    "d = Device(base_dir='resources/')\n",
    "data_points = d.get_temps()\n",
    "\n",
    "data_points[1].get_device_sn()"
   ]
  },
  {
   "cell_type": "code",
   "execution_count": null,
   "metadata": {},
   "outputs": [],
   "source": []
  }
 ],
 "metadata": {
  "kernelspec": {
   "display_name": "Python 3",
   "language": "python",
   "name": "python3"
  }
 },
 "nbformat": 4,
 "nbformat_minor": 2
}
