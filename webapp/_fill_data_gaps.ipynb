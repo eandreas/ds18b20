{
 "cells": [
  {
   "cell_type": "code",
   "execution_count": null,
   "id": "comparative-philosophy",
   "metadata": {},
   "outputs": [],
   "source": [
    "import pandas as pd\n",
    "from pathlib2 import Path\n",
    "import datetime"
   ]
  },
  {
   "cell_type": "code",
   "execution_count": null,
   "id": "placed-premium",
   "metadata": {},
   "outputs": [],
   "source": [
    "DEFAULT_PI_PATH = Path('/home/pi/get_temp_C.out')\n",
    "FALLBACK_PATH = Path('/Users/eandreas/projects/dev/ds18b20/webapp2/data/get_temp_C.out')"
   ]
  },
  {
   "cell_type": "code",
   "execution_count": null,
   "id": "banner-workstation",
   "metadata": {},
   "outputs": [],
   "source": [
    "def load_data():\n",
    "    path = DEFAULT_PI_PATH\n",
    "    if not path.is_file():\n",
    "        path = FALLBACK_PATH\n",
    "    names = ['dev_sn', 'date', 'time', 'temp_raw', 'temp_C']\n",
    "    df = pd.read_csv(path, sep=' ', header=None, names = names, parse_dates=[['date', 'time']])\n",
    "    df.date_time = df.date_time.dt.strftime('%Y-%m-%d %H:%M')\n",
    "    df.date_time = pd.to_datetime(df['date_time'], format='%Y%m%d %H:%M')\n",
    "    df = df[~df.isna().any(axis=1)]\n",
    "    df = df[~df.date_time.duplicated(keep='first')]\n",
    "    idx = pd.date_range(\n",
    "        start=df.iloc[0].date_time.strftime('%Y-%m-%d %H:%M'),\n",
    "        end=df.iloc[-1].date_time.strftime('%Y-%m-%d %H:%M'),\n",
    "        freq='T')\n",
    "    df.set_index('date_time').reindex(idx).rename_axis('date_time').reset_index()\n",
    "    return df"
   ]
  },
  {
   "cell_type": "code",
   "execution_count": null,
   "id": "remarkable-mouth",
   "metadata": {},
   "outputs": [
    {
     "data": {
      "text/html": [
       "<div>\n",
       "<style scoped>\n",
       "    .dataframe tbody tr th:only-of-type {\n",
       "        vertical-align: middle;\n",
       "    }\n",
       "\n",
       "    .dataframe tbody tr th {\n",
       "        vertical-align: top;\n",
       "    }\n",
       "\n",
       "    .dataframe thead th {\n",
       "        text-align: right;\n",
       "    }\n",
       "</style>\n",
       "<table border=\"1\" class=\"dataframe\">\n",
       "  <thead>\n",
       "    <tr style=\"text-align: right;\">\n",
       "      <th></th>\n",
       "      <th>date_time</th>\n",
       "      <th>dev_sn</th>\n",
       "      <th>temp_raw</th>\n",
       "      <th>temp_C</th>\n",
       "    </tr>\n",
       "  </thead>\n",
       "  <tbody>\n",
       "    <tr>\n",
       "      <th>0</th>\n",
       "      <td>2021-01-30 21:48:00</td>\n",
       "      <td>28-03219779d339</td>\n",
       "      <td>20.312</td>\n",
       "      <td>21.748</td>\n",
       "    </tr>\n",
       "    <tr>\n",
       "      <th>1</th>\n",
       "      <td>2021-01-30 21:49:00</td>\n",
       "      <td>28-03219779d339</td>\n",
       "      <td>20.312</td>\n",
       "      <td>21.748</td>\n",
       "    </tr>\n",
       "    <tr>\n",
       "      <th>2</th>\n",
       "      <td>2021-01-30 21:50:00</td>\n",
       "      <td>28-03219779d339</td>\n",
       "      <td>20.312</td>\n",
       "      <td>21.748</td>\n",
       "    </tr>\n",
       "    <tr>\n",
       "      <th>3</th>\n",
       "      <td>2021-01-30 21:51:00</td>\n",
       "      <td>28-03219779d339</td>\n",
       "      <td>20.312</td>\n",
       "      <td>21.748</td>\n",
       "    </tr>\n",
       "    <tr>\n",
       "      <th>4</th>\n",
       "      <td>2021-01-30 21:52:00</td>\n",
       "      <td>28-03219779d339</td>\n",
       "      <td>20.312</td>\n",
       "      <td>21.748</td>\n",
       "    </tr>\n",
       "  </tbody>\n",
       "</table>\n",
       "</div>"
      ],
      "text/plain": [
       "            date_time           dev_sn  temp_raw  temp_C\n",
       "0 2021-01-30 21:48:00  28-03219779d339    20.312  21.748\n",
       "1 2021-01-30 21:49:00  28-03219779d339    20.312  21.748\n",
       "2 2021-01-30 21:50:00  28-03219779d339    20.312  21.748\n",
       "3 2021-01-30 21:51:00  28-03219779d339    20.312  21.748\n",
       "4 2021-01-30 21:52:00  28-03219779d339    20.312  21.748"
      ]
     },
     "execution_count": null,
     "metadata": {},
     "output_type": "execute_result"
    }
   ],
   "source": [
    "df = load_data()\n",
    "df.head()"
   ]
  },
  {
   "cell_type": "code",
   "execution_count": null,
   "id": "selected-repeat",
   "metadata": {},
   "outputs": [
    {
     "data": {
      "text/plain": [
       "date_time    datetime64[ns]\n",
       "dev_sn               object\n",
       "temp_raw            float64\n",
       "temp_C              float64\n",
       "dtype: object"
      ]
     },
     "execution_count": null,
     "metadata": {},
     "output_type": "execute_result"
    }
   ],
   "source": [
    "df.dtypes"
   ]
  },
  {
   "cell_type": "code",
   "execution_count": null,
   "id": "alone-reproduction",
   "metadata": {},
   "outputs": [
    {
     "data": {
      "text/html": [
       "<div>\n",
       "<style scoped>\n",
       "    .dataframe tbody tr th:only-of-type {\n",
       "        vertical-align: middle;\n",
       "    }\n",
       "\n",
       "    .dataframe tbody tr th {\n",
       "        vertical-align: top;\n",
       "    }\n",
       "\n",
       "    .dataframe thead th {\n",
       "        text-align: right;\n",
       "    }\n",
       "</style>\n",
       "<table border=\"1\" class=\"dataframe\">\n",
       "  <thead>\n",
       "    <tr style=\"text-align: right;\">\n",
       "      <th></th>\n",
       "      <th>date_time</th>\n",
       "      <th>dev_sn</th>\n",
       "      <th>temp_raw</th>\n",
       "      <th>temp_C</th>\n",
       "    </tr>\n",
       "  </thead>\n",
       "  <tbody>\n",
       "    <tr>\n",
       "      <th>0</th>\n",
       "      <td>2021-01-30 21:48:00</td>\n",
       "      <td>28-03219779d339</td>\n",
       "      <td>20.312</td>\n",
       "      <td>21.748</td>\n",
       "    </tr>\n",
       "    <tr>\n",
       "      <th>1</th>\n",
       "      <td>2021-01-30 21:49:00</td>\n",
       "      <td>28-03219779d339</td>\n",
       "      <td>20.312</td>\n",
       "      <td>21.748</td>\n",
       "    </tr>\n",
       "    <tr>\n",
       "      <th>2</th>\n",
       "      <td>2021-01-30 21:50:00</td>\n",
       "      <td>28-03219779d339</td>\n",
       "      <td>20.312</td>\n",
       "      <td>21.748</td>\n",
       "    </tr>\n",
       "    <tr>\n",
       "      <th>3</th>\n",
       "      <td>2021-01-30 21:51:00</td>\n",
       "      <td>28-03219779d339</td>\n",
       "      <td>20.312</td>\n",
       "      <td>21.748</td>\n",
       "    </tr>\n",
       "    <tr>\n",
       "      <th>4</th>\n",
       "      <td>2021-01-30 21:52:00</td>\n",
       "      <td>28-03219779d339</td>\n",
       "      <td>20.312</td>\n",
       "      <td>21.748</td>\n",
       "    </tr>\n",
       "  </tbody>\n",
       "</table>\n",
       "</div>"
      ],
      "text/plain": [
       "            date_time           dev_sn  temp_raw  temp_C\n",
       "0 2021-01-30 21:48:00  28-03219779d339    20.312  21.748\n",
       "1 2021-01-30 21:49:00  28-03219779d339    20.312  21.748\n",
       "2 2021-01-30 21:50:00  28-03219779d339    20.312  21.748\n",
       "3 2021-01-30 21:51:00  28-03219779d339    20.312  21.748\n",
       "4 2021-01-30 21:52:00  28-03219779d339    20.312  21.748"
      ]
     },
     "execution_count": null,
     "metadata": {},
     "output_type": "execute_result"
    }
   ],
   "source": [
    "df.head()"
   ]
  },
  {
   "cell_type": "code",
   "execution_count": null,
   "id": "personalized-classics",
   "metadata": {},
   "outputs": [],
   "source": []
  }
 ],
 "metadata": {
  "kernelspec": {
   "display_name": "Python 3",
   "language": "python",
   "name": "python3"
  }
 },
 "nbformat": 4,
 "nbformat_minor": 5
}
