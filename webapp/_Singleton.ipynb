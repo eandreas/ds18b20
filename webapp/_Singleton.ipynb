{
 "cells": [
  {
   "cell_type": "code",
   "execution_count": null,
   "id": "imported-genealogy",
   "metadata": {},
   "outputs": [],
   "source": [
    "import pandas as pd\n",
    "from pathlib2 import Path"
   ]
  },
  {
   "cell_type": "code",
   "execution_count": null,
   "id": "korean-duration",
   "metadata": {},
   "outputs": [
    {
     "data": {
      "text/html": [
       "<div>\n",
       "<style scoped>\n",
       "    .dataframe tbody tr th:only-of-type {\n",
       "        vertical-align: middle;\n",
       "    }\n",
       "\n",
       "    .dataframe tbody tr th {\n",
       "        vertical-align: top;\n",
       "    }\n",
       "\n",
       "    .dataframe thead th {\n",
       "        text-align: right;\n",
       "    }\n",
       "</style>\n",
       "<table border=\"1\" class=\"dataframe\">\n",
       "  <thead>\n",
       "    <tr style=\"text-align: right;\">\n",
       "      <th></th>\n",
       "      <th>date_time</th>\n",
       "      <th>dev_sn</th>\n",
       "      <th>temp_raw</th>\n",
       "      <th>temp_C</th>\n",
       "    </tr>\n",
       "  </thead>\n",
       "  <tbody>\n",
       "    <tr>\n",
       "      <th>4318</th>\n",
       "      <td>2021-02-02 21:54:03.290389</td>\n",
       "      <td>28-03219779d339</td>\n",
       "      <td>20.125</td>\n",
       "      <td>21.562</td>\n",
       "    </tr>\n",
       "    <tr>\n",
       "      <th>4319</th>\n",
       "      <td>2021-02-02 21:55:02.720333</td>\n",
       "      <td>28-03219779d339</td>\n",
       "      <td>20.062</td>\n",
       "      <td>21.499</td>\n",
       "    </tr>\n",
       "    <tr>\n",
       "      <th>4320</th>\n",
       "      <td>2021-02-02 21:56:03.120675</td>\n",
       "      <td>28-03219779d339</td>\n",
       "      <td>20.062</td>\n",
       "      <td>21.499</td>\n",
       "    </tr>\n",
       "    <tr>\n",
       "      <th>4321</th>\n",
       "      <td>2021-02-02 21:57:02.600886</td>\n",
       "      <td>28-03219779d339</td>\n",
       "      <td>20.062</td>\n",
       "      <td>21.499</td>\n",
       "    </tr>\n",
       "    <tr>\n",
       "      <th>4322</th>\n",
       "      <td>2021-02-03 21:57:02.600886</td>\n",
       "      <td>28-03219779d339</td>\n",
       "      <td>20.062</td>\n",
       "      <td>31.499</td>\n",
       "    </tr>\n",
       "  </tbody>\n",
       "</table>\n",
       "</div>"
      ],
      "text/plain": [
       "                      date_time           dev_sn  temp_raw  temp_C\n",
       "4318 2021-02-02 21:54:03.290389  28-03219779d339    20.125  21.562\n",
       "4319 2021-02-02 21:55:02.720333  28-03219779d339    20.062  21.499\n",
       "4320 2021-02-02 21:56:03.120675  28-03219779d339    20.062  21.499\n",
       "4321 2021-02-02 21:57:02.600886  28-03219779d339    20.062  21.499\n",
       "4322 2021-02-03 21:57:02.600886  28-03219779d339    20.062  31.499"
      ]
     },
     "execution_count": null,
     "metadata": {},
     "output_type": "execute_result"
    }
   ],
   "source": [
    "temp_file = Path('/Users/eandreas/projects/dev/ds18b20/webapp2/data/get_temp_C.out')\n",
    "df = pd.read_csv(temp_file, sep=' ', header=None, names=['dev_sn', 'date', 'time', 'temp_raw', 'temp_C'], parse_dates=[['date', 'time']])\n",
    "df.tail()"
   ]
  },
  {
   "cell_type": "code",
   "execution_count": null,
   "id": "cloudy-belfast",
   "metadata": {},
   "outputs": [],
   "source": [
    "class Singleton:\n",
    "    __instance = None\n",
    "\n",
    "    @staticmethod \n",
    "    def getInstance():\n",
    "        \"\"\" Static access method. \"\"\"\n",
    "        if Singleton.__instance is None:\n",
    "            Singleton()\n",
    "        return Singleton.__instance\n",
    "    \n",
    "    def __init__(self):\n",
    "        \"\"\" Virtually private constructor. \"\"\"\n",
    "        if Singleton.__instance is not None:\n",
    "            raise Exception(\"This class is a singleton!\")\n",
    "        else:\n",
    "            Singleton.__instance = self\n",
    "            temp_file = Path('/Users/eandreas/projects/dev/ds18b20/webapp2/data/get_temp_C.out')\n",
    "            self.__df_full = pd.read_csv(temp_file, sep=' ', header=None, names=['dev_sn', 'date', 'time', 'temp_raw', 'temp_C'], parse_dates=[['date', 'time']])\n",
    "    \n",
    "    def get_df(self):\n",
    "        return self.__df_full\n",
    "    \n",
    "    def set_df(self, df):\n",
    "        self.__df_full = df\n",
    "            \n",
    "    "
   ]
  },
  {
   "cell_type": "code",
   "execution_count": null,
   "id": "aware-shark",
   "metadata": {},
   "outputs": [],
   "source": [
    "Singleton.getInstance().set_df(pd.DataFrame())"
   ]
  },
  {
   "cell_type": "code",
   "execution_count": null,
   "id": "polish-serve",
   "metadata": {},
   "outputs": [
    {
     "data": {
      "text/html": [
       "<div>\n",
       "<style scoped>\n",
       "    .dataframe tbody tr th:only-of-type {\n",
       "        vertical-align: middle;\n",
       "    }\n",
       "\n",
       "    .dataframe tbody tr th {\n",
       "        vertical-align: top;\n",
       "    }\n",
       "\n",
       "    .dataframe thead th {\n",
       "        text-align: right;\n",
       "    }\n",
       "</style>\n",
       "<table border=\"1\" class=\"dataframe\">\n",
       "  <thead>\n",
       "    <tr style=\"text-align: right;\">\n",
       "      <th></th>\n",
       "    </tr>\n",
       "  </thead>\n",
       "  <tbody>\n",
       "  </tbody>\n",
       "</table>\n",
       "</div>"
      ],
      "text/plain": [
       "Empty DataFrame\n",
       "Columns: []\n",
       "Index: []"
      ]
     },
     "execution_count": null,
     "metadata": {},
     "output_type": "execute_result"
    }
   ],
   "source": [
    "Singleton.getInstance().get_df()"
   ]
  },
  {
   "cell_type": "code",
   "execution_count": null,
   "id": "academic-tragedy",
   "metadata": {},
   "outputs": [],
   "source": []
  }
 ],
 "metadata": {
  "kernelspec": {
   "display_name": "Python 3",
   "language": "python",
   "name": "python3"
  }
 },
 "nbformat": 4,
 "nbformat_minor": 5
}
