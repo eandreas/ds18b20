{
 "cells": [
  {
   "cell_type": "code",
   "execution_count": null,
   "id": "incident-practitioner",
   "metadata": {},
   "outputs": [],
   "source": [
    "import pandas as pd \n",
    "from pathlib2 import Path\n",
    "import plotly.graph_objects as go"
   ]
  },
  {
   "cell_type": "code",
   "execution_count": null,
   "id": "portable-flood",
   "metadata": {},
   "outputs": [],
   "source": [
    "DEFAULT_PI_PATH = Path('/home/pi/get_temp_C.out')\n",
    "FALLBACK_PATH = Path('/Users/eandreas/projects/dev/ds18b20/webapp2/data/get_temp_C.out')"
   ]
  },
  {
   "cell_type": "code",
   "execution_count": null,
   "id": "moderate-longer",
   "metadata": {},
   "outputs": [],
   "source": [
    "def load_data():\n",
    "    path = DEFAULT_PI_PATH\n",
    "    if not path.is_file():\n",
    "        path = FALLBACK_PATH\n",
    "    names = ['dev_sn', 'date', 'time', 'temp_raw', 'temp_C']\n",
    "    df = pd.read_csv(path, sep=' ', header=None, names = names, parse_dates=[['date', 'time']])\n",
    "    \n",
    "    # keep only rows witout nan entries\n",
    "    df = df[~df.isna().any(axis=1)]\n",
    "    \n",
    "    dfs = {}\n",
    "    \n",
    "    for sn in df[df.temp_raw.notna()].dev_sn.unique():\n",
    "        # create a copy for each device / serial number\n",
    "        dfd = df[df.dev_sn == sn].copy()\n",
    "        # reset index due to skipped rows (different serial number)\n",
    "        dfd = dfd.reset_index(drop = True)\n",
    "        # keep only dates, hours, and minutes from date_time column\n",
    "        dfd.date_time = dfd.date_time.dt.strftime('%Y-%m-%d %H:%M')\n",
    "        dfd.date_time = pd.to_datetime(dfd['date_time'], format='%Y%m%d %H:%M')\n",
    "        #dfd = dfd[~dfd.isna().any(axis=1)]\n",
    "        # remov duplicate rows for the same time stamp\n",
    "        dfd = dfd[~dfd.date_time.duplicated(keep='first')]\n",
    "        # fill gaps in case of missing measured data points\n",
    "        idx = pd.date_range(\n",
    "            start = dfd.date_time.iloc[0].strftime('%Y-%m-%d %H:%M'),\n",
    "            end = dfd.date_time.iloc[-1].strftime('%Y-%m-%d %H:%M'),\n",
    "            freq = 'T')\n",
    "        dfd = dfd.set_index('date_time').reindex(idx).rename_axis('date_time').reset_index()\n",
    "        # store within dictionary\n",
    "        dfs.update({sn: dfd})\n",
    "        \n",
    "    return dfs"
   ]
  },
  {
   "cell_type": "code",
   "execution_count": null,
   "id": "straight-default",
   "metadata": {},
   "outputs": [],
   "source": [
    "def serve_figure(df):    \n",
    "    fig = go.Figure()\n",
    "    fig.add_trace(go.Scatter(\n",
    "        x=list(df.date_time),\n",
    "        y=list(df.temp_C),\n",
    "        name='t_corr',\n",
    "        line=dict(color='skyblue', width=2, dash='solid'),\n",
    "        #fill='tozeroy',\n",
    "    ))\n",
    "    fig.add_trace(go.Scatter(\n",
    "        x=list(df.date_time),\n",
    "        y=list(df.temp_raw),\n",
    "        name='t_raw',\n",
    "        line=dict(color='darkgray', width=1, dash='dot')\n",
    "    ))\n",
    "    fig.update_layout(\n",
    "        xaxis_title=\"Datum\",\n",
    "        yaxis_title=\"Temperatur / °C\",\n",
    "        template='none',\n",
    "        #autosize=False,\n",
    "        #width=1000,\n",
    "        #height=500,\n",
    "        margin=dict(\n",
    "            l=60,\n",
    "            r=0,\n",
    "            b=0,\n",
    "            t=0,\n",
    "            pad=4\n",
    "        ),\n",
    "        legend=dict(\n",
    "            orientation=\"h\",\n",
    "            yanchor=\"bottom\",\n",
    "            y=-0.2,\n",
    "            xanchor=\"center\",\n",
    "            x=0.9\n",
    "        )\n",
    "    )\n",
    "    return fig"
   ]
  },
  {
   "cell_type": "code",
   "execution_count": null,
   "id": "owned-charity",
   "metadata": {},
   "outputs": [],
   "source": [
    "df = load_data()\n",
    "#serve_figure(df)"
   ]
  },
  {
   "cell_type": "code",
   "execution_count": null,
   "id": "oriented-times",
   "metadata": {},
   "outputs": [
    {
     "name": "stdout",
     "output_type": "stream",
     "text": [
      "                date_time           dev_sn  temp_raw  temp_C\n",
      "27375 2021-02-18 22:03:00  28-03219779d339    26.187  27.586\n",
      "27376 2021-02-18 22:04:00  28-03219779d339    24.875  26.282\n",
      "27377 2021-02-18 22:05:00  28-03219779d339    23.875  25.288\n",
      "27378 2021-02-18 22:06:00  28-03219779d339    23.187  24.605\n",
      "27379 2021-02-18 22:07:00  28-03219779d339    22.687  24.108\n",
      "               date_time           dev_sn  temp_raw  temp_C\n",
      "8620 2021-02-18 22:03:00  28-032197791b3c    26.562  26.562\n",
      "8621 2021-02-18 22:04:00  28-032197791b3c    25.125  25.125\n",
      "8622 2021-02-18 22:05:00  28-032197791b3c    24.062  24.062\n",
      "8623 2021-02-18 22:06:00  28-032197791b3c    23.250  23.250\n",
      "8624 2021-02-18 22:07:00  28-032197791b3c    22.625  22.625\n"
     ]
    }
   ],
   "source": [
    "for sn in df.keys():\n",
    "    print(df[sn].tail())"
   ]
  },
  {
   "cell_type": "code",
   "execution_count": null,
   "id": "pressed-yorkshire",
   "metadata": {},
   "outputs": [
    {
     "name": "stdout",
     "output_type": "stream",
     "text": [
      "28-03219779d339 -0.781\n",
      "28-032197791b3c -1.5583125\n"
     ]
    }
   ],
   "source": [
    "sn = list(df.keys())[0]\n",
    "low = df[sn].tail(48).head(16).temp_raw.mean()\n",
    "print(sn, low)\n",
    "sn = list(df.keys())[1]\n",
    "low = df[sn].tail(48).head(16).temp_raw.mean()\n",
    "print(sn, low)"
   ]
  },
  {
   "cell_type": "code",
   "execution_count": null,
   "id": "median-lloyd",
   "metadata": {},
   "outputs": [
    {
     "name": "stdout",
     "output_type": "stream",
     "text": [
      "28-03219779d339 97.16633333333334\n",
      "28-032197791b3c 96.41633333333334\n"
     ]
    }
   ],
   "source": [
    "sn = list(df.keys())[0]\n",
    "high = df[sn].tail(14).head(3).temp_raw.mean()\n",
    "print(sn, high)\n",
    "sn = list(df.keys())[1]\n",
    "high = df[sn].tail(14).head(3).temp_raw.mean()\n",
    "print(sn, high)"
   ]
  },
  {
   "cell_type": "code",
   "execution_count": null,
   "id": "permanent-disorder",
   "metadata": {},
   "outputs": [],
   "source": []
  }
 ],
 "metadata": {
  "kernelspec": {
   "display_name": "Python 3",
   "language": "python",
   "name": "python3"
  }
 },
 "nbformat": 4,
 "nbformat_minor": 5
}
