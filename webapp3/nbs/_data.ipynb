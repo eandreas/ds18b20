{
 "cells": [
  {
   "cell_type": "code",
   "execution_count": null,
   "id": "documentary-catch",
   "metadata": {},
   "outputs": [],
   "source": [
    "import pandas as pd \n",
    "from pathlib2 import Path\n",
    "from datetime import timedelta, datetime as dt"
   ]
  },
  {
   "cell_type": "markdown",
   "id": "voluntary-display",
   "metadata": {},
   "source": [
    "# Initial data load"
   ]
  },
  {
   "cell_type": "code",
   "execution_count": null,
   "id": "retired-course",
   "metadata": {},
   "outputs": [],
   "source": [
    "DEFAULT_PI_PATH=Path('/home/pi/get_temp_C.out')\n",
    "FALLBACK_PATH=Path('/Users/eandreas/projects/dev/ds18b20/webapp3/data/get_temp_C.out')"
   ]
  },
  {
   "cell_type": "code",
   "execution_count": null,
   "id": "interracial-fancy",
   "metadata": {},
   "outputs": [],
   "source": [
    "def convert_time(s):\n",
    "    return s[0:5]"
   ]
  },
  {
   "cell_type": "code",
   "execution_count": null,
   "id": "answering-harvey",
   "metadata": {},
   "outputs": [],
   "source": [
    "def load_data():\n",
    "    path=DEFAULT_PI_PATH\n",
    "    if not path.is_file():\n",
    "        path=FALLBACK_PATH\n",
    "    df=pd.read_csv(path, sep=' ', header=None, names=['dev_sn', 'date', 'time', 'temp_raw', 'temp_C'])\n",
    "    \n",
    "    # keep only values of the last 7 days\n",
    "    now = dt.now()\n",
    "    now = dt(now.year, now.month, now.day, now.hour, now.minute) # date, hours and minutes only\n",
    "    td7 = timedelta(days=7)\n",
    "    one_week_ago = now - td7\n",
    "    df = df[df.date >= one_week_ago.strftime('%Y-%m-%d')]\n",
    "    \n",
    "    # remove rows with nan entries\n",
    "    df = df[~df.isna().any(axis=1)]\n",
    "    \n",
    "    # keep hour and minute from time only\n",
    "    df['time'] = df['time'].apply(convert_time)\n",
    "    \n",
    "    # add a datetime column from date and time columns\n",
    "    df['date_time']=pd.to_datetime(df['date']+df['time'], format='%Y-%m-%d%H:%M')\n",
    "\n",
    "    idx = pd.date_range(start = one_week_ago, end = now, freq = 'T')\n",
    "    \n",
    "    for sn in df[df.temp_raw.notna()].dev_sn.unique():\n",
    "        # create a copy for each device / serial number\n",
    "        dfd = df[df.dev_sn == sn].copy()\n",
    "        # reset index due to skipped rows (different serial number)\n",
    "        dfd = dfd.reset_index(drop = True)\n",
    "        # remov duplicate rows for the same time stamp\n",
    "        dfd = dfd[~dfd.date_time.duplicated(keep='first')]\n",
    "        # fill gaps in case of missing measured data points, use df to do ut everywhere the same way\n",
    "        dfd = dfd.set_index('date_time').reindex(idx).rename_axis('date_time').reset_index()\n",
    "        # store within dictionary\n",
    "        dfs.update({sn: dfd})\n",
    "    return dfs"
   ]
  },
  {
   "cell_type": "code",
   "execution_count": null,
   "id": "fabulous-artist",
   "metadata": {},
   "outputs": [
    {
     "data": {
      "text/html": [
       "<div>\n",
       "<style scoped>\n",
       "    .dataframe tbody tr th:only-of-type {\n",
       "        vertical-align: middle;\n",
       "    }\n",
       "\n",
       "    .dataframe tbody tr th {\n",
       "        vertical-align: top;\n",
       "    }\n",
       "\n",
       "    .dataframe thead th {\n",
       "        text-align: right;\n",
       "    }\n",
       "</style>\n",
       "<table border=\"1\" class=\"dataframe\">\n",
       "  <thead>\n",
       "    <tr style=\"text-align: right;\">\n",
       "      <th></th>\n",
       "      <th>date_time</th>\n",
       "      <th>dev_sn</th>\n",
       "      <th>date</th>\n",
       "      <th>time</th>\n",
       "      <th>temp_raw</th>\n",
       "      <th>temp_C</th>\n",
       "    </tr>\n",
       "  </thead>\n",
       "  <tbody>\n",
       "    <tr>\n",
       "      <th>10076</th>\n",
       "      <td>2021-02-23 22:40:00</td>\n",
       "      <td>28-03219779d339</td>\n",
       "      <td>2021-02-23</td>\n",
       "      <td>22:40</td>\n",
       "      <td>20.062</td>\n",
       "      <td>21.011</td>\n",
       "    </tr>\n",
       "    <tr>\n",
       "      <th>10077</th>\n",
       "      <td>2021-02-23 22:41:00</td>\n",
       "      <td>28-03219779d339</td>\n",
       "      <td>2021-02-23</td>\n",
       "      <td>22:41</td>\n",
       "      <td>20.062</td>\n",
       "      <td>21.011</td>\n",
       "    </tr>\n",
       "    <tr>\n",
       "      <th>10078</th>\n",
       "      <td>2021-02-23 22:42:00</td>\n",
       "      <td>28-03219779d339</td>\n",
       "      <td>2021-02-23</td>\n",
       "      <td>22:42</td>\n",
       "      <td>20.062</td>\n",
       "      <td>21.011</td>\n",
       "    </tr>\n",
       "    <tr>\n",
       "      <th>10079</th>\n",
       "      <td>2021-02-23 22:43:00</td>\n",
       "      <td>28-03219779d339</td>\n",
       "      <td>2021-02-23</td>\n",
       "      <td>22:43</td>\n",
       "      <td>20.062</td>\n",
       "      <td>21.011</td>\n",
       "    </tr>\n",
       "    <tr>\n",
       "      <th>10080</th>\n",
       "      <td>2021-02-23 22:44:00</td>\n",
       "      <td>28-03219779d339</td>\n",
       "      <td>2021-02-23</td>\n",
       "      <td>22:44</td>\n",
       "      <td>20.062</td>\n",
       "      <td>21.011</td>\n",
       "    </tr>\n",
       "  </tbody>\n",
       "</table>\n",
       "</div>"
      ],
      "text/plain": [
       "                date_time           dev_sn        date   time  temp_raw  \\\n",
       "10076 2021-02-23 22:40:00  28-03219779d339  2021-02-23  22:40    20.062   \n",
       "10077 2021-02-23 22:41:00  28-03219779d339  2021-02-23  22:41    20.062   \n",
       "10078 2021-02-23 22:42:00  28-03219779d339  2021-02-23  22:42    20.062   \n",
       "10079 2021-02-23 22:43:00  28-03219779d339  2021-02-23  22:43    20.062   \n",
       "10080 2021-02-23 22:44:00  28-03219779d339  2021-02-23  22:44    20.062   \n",
       "\n",
       "       temp_C  \n",
       "10076  21.011  \n",
       "10077  21.011  \n",
       "10078  21.011  \n",
       "10079  21.011  \n",
       "10080  21.011  "
      ]
     },
     "execution_count": null,
     "metadata": {},
     "output_type": "execute_result"
    }
   ],
   "source": [
    "df = load_data()\n",
    "df['28-03219779d339'].tail()"
   ]
  },
  {
   "cell_type": "code",
   "execution_count": null,
   "id": "gorgeous-hollow",
   "metadata": {},
   "outputs": [
    {
     "data": {
      "text/plain": [
       "(10081, 6)"
      ]
     },
     "execution_count": null,
     "metadata": {},
     "output_type": "execute_result"
    }
   ],
   "source": [
    "df['28-03219779d339'].shape"
   ]
  },
  {
   "cell_type": "code",
   "execution_count": null,
   "id": "novel-meeting",
   "metadata": {},
   "outputs": [],
   "source": []
  }
 ],
 "metadata": {
  "kernelspec": {
   "display_name": "Python 3",
   "language": "python",
   "name": "python3"
  }
 },
 "nbformat": 4,
 "nbformat_minor": 5
}
