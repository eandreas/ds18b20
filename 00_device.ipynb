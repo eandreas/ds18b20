{
 "cells": [
  {
   "cell_type": "code",
   "execution_count": null,
   "metadata": {},
   "outputs": [],
   "source": [
    "#hide\n",
    "%load_ext autoreload\n",
    "%autoreload 2"
   ]
  },
  {
   "cell_type": "code",
   "execution_count": null,
   "metadata": {},
   "outputs": [],
   "source": [
    "# default_exp device"
   ]
  },
  {
   "cell_type": "markdown",
   "metadata": {},
   "source": [
    "# ds18b20\n",
    "\n",
    "> A module to handle DS18B20 temperature sensors"
   ]
  },
  {
   "cell_type": "code",
   "execution_count": null,
   "metadata": {},
   "outputs": [],
   "source": [
    "#hide\n",
    "from nbdev.showdoc import *"
   ]
  },
  {
   "cell_type": "code",
   "execution_count": null,
   "metadata": {},
   "outputs": [],
   "source": [
    "#export\n",
    "import os\n",
    "import glob\n",
    "import re\n",
    "import datetime as dt\n",
    "from pathlib2 import Path"
   ]
  },
  {
   "cell_type": "code",
   "execution_count": null,
   "metadata": {},
   "outputs": [],
   "source": [
    "#export\n",
    "def add_one_wire_modules():\n",
    "    \"Add one wire communication device kernel modules to the linux kernel\"\n",
    "    os.system('/usr/sbin/modprobe w1-gpio')\n",
    "    os.system('/usr/sbin/modprobe w1-therm')"
   ]
  },
  {
   "cell_type": "code",
   "execution_count": null,
   "metadata": {},
   "outputs": [],
   "source": [
    "#export\n",
    "class DataPoint:\n",
    "    \"TODO\"\n",
    "    def __init__(self, device_sn, date_time, temp_raw, temp_corr = None):\n",
    "        self.__device_sn = device_sn\n",
    "        self.__date_time = date_time\n",
    "        self.__temp_raw = temp_raw\n",
    "        self.__temp_corr = temp_corr\n",
    "        if temp_corr is None:\n",
    "            self.__temp_corr = temp_raw\n",
    "        \n",
    "    def get_device_sn(self):\n",
    "        return self.__device_sn\n",
    "    \n",
    "    def get_date_time(self):\n",
    "        return self.__date_time\n",
    "    \n",
    "    def print_date_time(self):\n",
    "        print(self.__date_time.strftime('%Y-%m-%d %H:%M:%S'))\n",
    "        \n",
    "    def get_temp_raw(self):\n",
    "        return self.__temp_raw\n",
    "        \n",
    "    def get_temp_C(self):\n",
    "        return self.__temp_corr / 1000.0\n",
    "    \n",
    "    def get_temp_F(self):\n",
    "        return self.get_temp_C() * 9.0 / 5.0 + 32.0\n",
    "    \n",
    "    def get_temp_K(self):\n",
    "        return self.get_temp_C() + 273.15"
   ]
  },
  {
   "cell_type": "code",
   "execution_count": null,
   "metadata": {},
   "outputs": [],
   "source": [
    "#export\n",
    "class Device:\n",
    "    \"TODO\"\n",
    "    def __init__(self, base_dir = '/sys/bus/w1/devices/', device_sn = '28*'):\n",
    "        self.base_dir = base_dir\n",
    "        path = Path(base_dir).glob(device_sn + '/w1_slave')\n",
    "        self.device_files = [x for x in path if x.is_file()]\n",
    "        self.__raw_low = None\n",
    "        self.__ref_low = None\n",
    "        self.__f_corr = None\n",
    "        self.__cal = {}\n",
    "\n",
    "    def set_calibration(self, sn, raw_low, raw_high, ref_low, ref_high):\n",
    "        f_corr = (ref_high - ref_low) / (raw_high - raw_low)\n",
    "        self.__cal.update({sn:(raw_low, ref_low, f_corr)})\n",
    "        \n",
    "    def __read_raw(self, device_file):\n",
    "        with open(device_file, 'r') as f: \n",
    "            rows = f.readlines()\n",
    "            return rows\n",
    "        \n",
    "    def __device_sn(self, device_file):\n",
    "        dev_path = str(re.findall(r'.*?/(28.*?)/w1_slave', str(device_file))[0])\n",
    "        return dev_path\n",
    "    \n",
    "    def get_temps(self):\n",
    "        temps = list()\n",
    "        for df in self.device_files:\n",
    "            rows = self.__read_raw(df)\n",
    "            while rows[0].strip()[-3:] != 'YES':\n",
    "                time.sleep(0.1)\n",
    "                rows = read_temp_raw()\n",
    "            pos = rows[1].find('t=')\n",
    "            if pos != -1:\n",
    "                device_sn = self.__device_sn(df)\n",
    "                date_time = dt.datetime.now()\n",
    "                t_raw = float(rows[1][pos + 2:])\n",
    "                t_corr = t_raw\n",
    "                sn = self.__device_sn(df)\n",
    "                if sn in self.__cal:\n",
    "                    t_corr = ((t_raw / 1000.0 - self.__cal[sn][0]) * self.__cal[sn][2] + self.__cal[sn][1]) * 1000.0\n",
    "                data_point = DataPoint(device_sn, date_time, t_raw, t_corr)\n",
    "                temps.append(data_point)\n",
    "        return temps"
   ]
  },
  {
   "cell_type": "code",
   "execution_count": null,
   "metadata": {},
   "outputs": [
    {
     "name": "stdout",
     "output_type": "stream",
     "text": [
      "20525.0 20.525\n",
      "20750.0 20.75\n",
      "20525.0 21.959439851781738\n",
      "20750.0 20.75\n"
     ]
    }
   ],
   "source": [
    "d = Device(base_dir='resources/')\n",
    "print(d.get_temps()[0].get_temp_raw(), d.get_temps()[0].get_temp_C())\n",
    "print(d.get_temps()[1].get_temp_raw(), d.get_temps()[1].get_temp_C())\n",
    "d.set_calibration('28-03219779d857', -1.563, 97.75, 0.01, 98.7)\n",
    "print(d.get_temps()[0].get_temp_raw(), d.get_temps()[0].get_temp_C())\n",
    "print(d.get_temps()[1].get_temp_raw(), d.get_temps()[1].get_temp_C())"
   ]
  },
  {
   "cell_type": "code",
   "execution_count": null,
   "metadata": {},
   "outputs": [],
   "source": []
  }
 ],
 "metadata": {
  "kernelspec": {
   "display_name": "Python 3",
   "language": "python",
   "name": "python3"
  }
 },
 "nbformat": 4,
 "nbformat_minor": 2
}
