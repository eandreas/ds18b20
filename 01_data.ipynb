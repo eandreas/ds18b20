{
 "cells": [
  {
   "cell_type": "code",
   "execution_count": null,
   "id": "fifth-arcade",
   "metadata": {},
   "outputs": [],
   "source": [
    "#hide\n",
    "%load_ext autoreload\n",
    "%autoreload 2"
   ]
  },
  {
   "cell_type": "code",
   "execution_count": null,
   "id": "alone-punishment",
   "metadata": {},
   "outputs": [],
   "source": [
    "# default_exp data"
   ]
  },
  {
   "cell_type": "markdown",
   "id": "vanilla-cliff",
   "metadata": {},
   "source": [
    "# data\n",
    "\n",
    "> Handle data loading and manipulation"
   ]
  },
  {
   "cell_type": "code",
   "execution_count": null,
   "id": "computational-ottawa",
   "metadata": {},
   "outputs": [],
   "source": [
    "#hide\n",
    "from nbdev.showdoc import *"
   ]
  },
  {
   "cell_type": "code",
   "execution_count": null,
   "id": "documentary-catch",
   "metadata": {},
   "outputs": [],
   "source": [
    "#export\n",
    "import pandas as pd\n",
    "import numpy as np\n",
    "from pathlib2 import Path\n",
    "from datetime import timedelta, datetime as dt"
   ]
  },
  {
   "cell_type": "markdown",
   "id": "voluntary-display",
   "metadata": {},
   "source": [
    "## Initial data load"
   ]
  },
  {
   "cell_type": "code",
   "execution_count": null,
   "id": "retired-course",
   "metadata": {},
   "outputs": [],
   "source": [
    "#export\n",
    "DEFAULT_PI_PATH=Path('/home/pi/get_temp_C.out')\n",
    "FALLBACK_PATH=Path('webapp3/data/get_temp_C.out')"
   ]
  },
  {
   "cell_type": "code",
   "execution_count": null,
   "id": "interracial-fancy",
   "metadata": {},
   "outputs": [],
   "source": [
    "#export\n",
    "def convert_time(s):\n",
    "    return s[0:5]"
   ]
  },
  {
   "cell_type": "code",
   "execution_count": null,
   "id": "answering-harvey",
   "metadata": {},
   "outputs": [],
   "source": [
    "#export\n",
    "def load_data():\n",
    "    path=DEFAULT_PI_PATH\n",
    "    if not path.is_file():\n",
    "        path=FALLBACK_PATH\n",
    "    df=pd.read_csv(path, sep=' ', header=None, names=['dev_sn', 'date', 'time', 'temp_raw', 'temp_C'])\n",
    "    \n",
    "    # keep only values of the last 7 days\n",
    "    now = dt.now()\n",
    "    now = dt(now.year, now.month, now.day, now.hour, now.minute) # date, hours and minutes only\n",
    "    td7 = timedelta(days=7)\n",
    "    one_week_ago = now - td7\n",
    "    df = df[df.date >= one_week_ago.strftime('%Y-%m-%d')]\n",
    "    \n",
    "    # remove rows with nan entries\n",
    "    df = df[~df.isna().any(axis=1)]\n",
    "    \n",
    "    # keep hour and minute from time only\n",
    "    df['time'] = df['time'].apply(convert_time)\n",
    "    \n",
    "    # add a datetime column from date and time columns, drop the later ones\n",
    "    df['date_time']=pd.to_datetime(df['date']+df['time'], format='%Y-%m-%d%H:%M')\n",
    "    df = df.drop(['date', 'time'], axis=1)\n",
    "    \n",
    "    dfs = {}\n",
    "    idx = pd.date_range(start = one_week_ago, end = now, freq = 'T')\n",
    "    \n",
    "    for sn in df[df.temp_raw.notna()].dev_sn.unique():\n",
    "        # create a copy for each device / serial number\n",
    "        dfd = df[df.dev_sn == sn].copy()\n",
    "        # reset index due to skipped rows (different serial number)\n",
    "        dfd = dfd.reset_index(drop = True)\n",
    "        # remov duplicate rows for the same time stamp\n",
    "        dfd = dfd[~dfd.date_time.duplicated(keep='first')]\n",
    "        # fill gaps in case of missing measured data points, use df to do ut everywhere the same way\n",
    "        dfd = dfd.set_index('date_time').reindex(idx).rename_axis('date_time').reset_index()\n",
    "        # add a timestamp column\n",
    "        dfd['timestamp'] = (dfd.date_time.values.astype(np.int64) // 10 ** 9).tolist()\n",
    "        # store within dictionary\n",
    "        dfs.update({sn: dfd})\n",
    "    return dfs"
   ]
  },
  {
   "cell_type": "code",
   "execution_count": null,
   "id": "fabulous-artist",
   "metadata": {},
   "outputs": [
    {
     "data": {
      "text/html": [
       "<div>\n",
       "<style scoped>\n",
       "    .dataframe tbody tr th:only-of-type {\n",
       "        vertical-align: middle;\n",
       "    }\n",
       "\n",
       "    .dataframe tbody tr th {\n",
       "        vertical-align: top;\n",
       "    }\n",
       "\n",
       "    .dataframe thead th {\n",
       "        text-align: right;\n",
       "    }\n",
       "</style>\n",
       "<table border=\"1\" class=\"dataframe\">\n",
       "  <thead>\n",
       "    <tr style=\"text-align: right;\">\n",
       "      <th></th>\n",
       "      <th>date_time</th>\n",
       "      <th>dev_sn</th>\n",
       "      <th>temp_raw</th>\n",
       "      <th>temp_C</th>\n",
       "      <th>timestamp</th>\n",
       "    </tr>\n",
       "  </thead>\n",
       "  <tbody>\n",
       "    <tr>\n",
       "      <th>0</th>\n",
       "      <td>2021-02-24 22:48:00</td>\n",
       "      <td>NaN</td>\n",
       "      <td>NaN</td>\n",
       "      <td>NaN</td>\n",
       "      <td>1614206880</td>\n",
       "    </tr>\n",
       "    <tr>\n",
       "      <th>1</th>\n",
       "      <td>2021-02-24 22:49:00</td>\n",
       "      <td>NaN</td>\n",
       "      <td>NaN</td>\n",
       "      <td>NaN</td>\n",
       "      <td>1614206940</td>\n",
       "    </tr>\n",
       "    <tr>\n",
       "      <th>2</th>\n",
       "      <td>2021-02-24 22:50:00</td>\n",
       "      <td>NaN</td>\n",
       "      <td>NaN</td>\n",
       "      <td>NaN</td>\n",
       "      <td>1614207000</td>\n",
       "    </tr>\n",
       "    <tr>\n",
       "      <th>3</th>\n",
       "      <td>2021-02-24 22:51:00</td>\n",
       "      <td>NaN</td>\n",
       "      <td>NaN</td>\n",
       "      <td>NaN</td>\n",
       "      <td>1614207060</td>\n",
       "    </tr>\n",
       "    <tr>\n",
       "      <th>4</th>\n",
       "      <td>2021-02-24 22:52:00</td>\n",
       "      <td>NaN</td>\n",
       "      <td>NaN</td>\n",
       "      <td>NaN</td>\n",
       "      <td>1614207120</td>\n",
       "    </tr>\n",
       "  </tbody>\n",
       "</table>\n",
       "</div>"
      ],
      "text/plain": [
       "            date_time dev_sn  temp_raw  temp_C   timestamp\n",
       "0 2021-02-24 22:48:00    NaN       NaN     NaN  1614206880\n",
       "1 2021-02-24 22:49:00    NaN       NaN     NaN  1614206940\n",
       "2 2021-02-24 22:50:00    NaN       NaN     NaN  1614207000\n",
       "3 2021-02-24 22:51:00    NaN       NaN     NaN  1614207060\n",
       "4 2021-02-24 22:52:00    NaN       NaN     NaN  1614207120"
      ]
     },
     "execution_count": null,
     "metadata": {},
     "output_type": "execute_result"
    }
   ],
   "source": [
    "df = load_data()\n",
    "df['28-032197791b3c'].head()"
   ]
  },
  {
   "cell_type": "code",
   "execution_count": null,
   "id": "statutory-pilot",
   "metadata": {},
   "outputs": [],
   "source": []
  }
 ],
 "metadata": {
  "kernelspec": {
   "display_name": "Python 3",
   "language": "python",
   "name": "python3"
  }
 },
 "nbformat": 4,
 "nbformat_minor": 5
}
