{
 "cells": [
  {
   "cell_type": "code",
   "execution_count": null,
   "metadata": {},
   "outputs": [
    {
     "name": "stdout",
     "output_type": "stream",
     "text": [
      "The autoreload extension is already loaded. To reload it, use:\n",
      "  %reload_ext autoreload\n"
     ]
    }
   ],
   "source": [
    "#hide\n",
    "%load_ext autoreload\n",
    "%autoreload 2"
   ]
  },
  {
   "cell_type": "code",
   "execution_count": null,
   "metadata": {},
   "outputs": [],
   "source": [
    "#hide\n",
    "from ds18b20.core import *"
   ]
  },
  {
   "cell_type": "markdown",
   "metadata": {},
   "source": [
    "# DS18B20 Temperature Sensors\n",
    "\n",
    "> Classes and methods to handle DS18B20 temperature sensors arrached to a raspberry pi."
   ]
  },
  {
   "cell_type": "markdown",
   "metadata": {},
   "source": [
    "This file will become your README and also the index of your documentation."
   ]
  },
  {
   "cell_type": "markdown",
   "metadata": {},
   "source": [
    "## Install"
   ]
  },
  {
   "cell_type": "markdown",
   "metadata": {},
   "source": [
    "`pip install ds18b20`"
   ]
  },
  {
   "cell_type": "markdown",
   "metadata": {},
   "source": [
    "## How to use"
   ]
  },
  {
   "cell_type": "markdown",
   "metadata": {},
   "source": [
    "Fill me in please! Don't forget code examples:"
   ]
  },
  {
   "cell_type": "code",
   "execution_count": null,
   "metadata": {},
   "outputs": [
    {
     "name": "stdout",
     "output_type": "stream",
     "text": [
      "28-03219779d857 2021-01-29 23:31:54.022935 21.959\n",
      "28-03219779d339 2021-01-29 23:31:54.023083 22.183\n"
     ]
    }
   ],
   "source": [
    "device = Device(base_dir='resources/')\n",
    "\n",
    "# values from calibration\n",
    "raw_low = -1.563\n",
    "raw_high = 97.75\n",
    "ref_low = 0.01\n",
    "ref_high = 98.7\n",
    "\n",
    "# set calibration\n",
    "device.set_calibration(raw_low, raw_high, ref_low, ref_high)\n",
    "\n",
    "temps = device.get_temps()\n",
    "\n",
    "\n",
    "for dp in temps:\n",
    "    print(dp.get_device_sn(), dp.get_date_time(), format(dp.get_temp_C(), '.3f'))\n",
    "\n"
   ]
  },
  {
   "cell_type": "code",
   "execution_count": null,
   "metadata": {},
   "outputs": [],
   "source": []
  }
 ],
 "metadata": {
  "kernelspec": {
   "display_name": "Python 3",
   "language": "python",
   "name": "python3"
  }
 },
 "nbformat": 4,
 "nbformat_minor": 2
}
